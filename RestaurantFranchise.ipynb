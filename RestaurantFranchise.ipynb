{
 "cells": [
  {
   "cell_type": "markdown",
   "id": "ee5681e4-130d-43fc-9f46-6c458f0feaea",
   "metadata": {},
   "source": [
    "# Linear Regression\n",
    "\n",
    "### Implement linear regression with one variable to predict profits for a restaurant franchise.\n"
   ]
  },
  {
   "cell_type": "markdown",
   "id": "0c72ecd4-c03c-4620-9234-bda82c59f2dd",
   "metadata": {},
   "source": [
    "\n",
    "## 1 - Packages \n",
    "\n",
    "First, let's run the cell below to import all the packages that we will need during this assignment.\n",
    "- [numpy](www.numpy.org) is the fundamental package for working with matrices in Python.\n",
    "- [matplotlib](http://matplotlib.org) is a famous library to plot graphs in Python.\n",
    "- ``utils.py`` contains helper functions for this assignment (!pip3 install utils (Run if Module not found err occur)). "
   ]
  },
  {
   "cell_type": "code",
   "execution_count": 4,
   "id": "d214eb8d-25a1-47be-98eb-f0a9c04a5ac5",
   "metadata": {},
   "outputs": [],
   "source": [
    "import numpy as np\n",
    "import pandas as pd\n",
    "import matplotlib.pyplot as plt\n",
    "from utils import *\n",
    "import copy\n",
    "import math\n",
    "%matplotlib inline\n",
    "from sklearn.model_selection import train_test_split"
   ]
  },
  {
   "cell_type": "markdown",
   "id": "135b648c-5fe8-49a9-8c61-add6ebf0e70c",
   "metadata": {},
   "source": [
    "##  Problem Statement\n",
    "\n",
    "Suppose you are the CEO of a restaurant franchise and are considering different cities for opening a new outlet.\n",
    "- You would like to expand your business to cities that may give your restaurant higher profits.\n",
    "- The chain already has restaurants in various cities and you have data for profits and populations from the cities.\n",
    "- You also have data on cities that are candidates for a new restaurant. \n",
    "    - For these cities, you have the city population.\n",
    "    \n",
    "Can you use the data to help you identify which cities may potentially give your business higher profits?\n",
    "\n",
    "## 2 - Dataset\n",
    "\n",
    "We will start by loading the dataset for this task. \n",
    "- The `load_data()` function shown below loads the data into variables `x_train` and `y_train`\n",
    "  - `x_train` is the training dataset of population of a city\n",
    "  - `y_train` is the training dataset of profit of a restaurant in that city. A negative value for profit indicates a loss.   \n",
    "  - Both `x_test` and `y_test` are testing datasets."
   ]
  },
  {
   "cell_type": "code",
   "execution_count": 6,
   "id": "441cea04-acbc-4bb8-aece-ac48d63550aa",
   "metadata": {},
   "outputs": [
    {
     "data": {
      "text/html": [
       "<div>\n",
       "<style scoped>\n",
       "    .dataframe tbody tr th:only-of-type {\n",
       "        vertical-align: middle;\n",
       "    }\n",
       "\n",
       "    .dataframe tbody tr th {\n",
       "        vertical-align: top;\n",
       "    }\n",
       "\n",
       "    .dataframe thead th {\n",
       "        text-align: right;\n",
       "    }\n",
       "</style>\n",
       "<table border=\"1\" class=\"dataframe\">\n",
       "  <thead>\n",
       "    <tr style=\"text-align: right;\">\n",
       "      <th></th>\n",
       "      <th>population</th>\n",
       "      <th>profit</th>\n",
       "    </tr>\n",
       "  </thead>\n",
       "  <tbody>\n",
       "    <tr>\n",
       "      <th>0</th>\n",
       "      <td>6.1101</td>\n",
       "      <td>17.5920</td>\n",
       "    </tr>\n",
       "    <tr>\n",
       "      <th>1</th>\n",
       "      <td>5.5277</td>\n",
       "      <td>9.1302</td>\n",
       "    </tr>\n",
       "    <tr>\n",
       "      <th>2</th>\n",
       "      <td>8.5186</td>\n",
       "      <td>13.6620</td>\n",
       "    </tr>\n",
       "    <tr>\n",
       "      <th>3</th>\n",
       "      <td>7.0032</td>\n",
       "      <td>11.8540</td>\n",
       "    </tr>\n",
       "    <tr>\n",
       "      <th>4</th>\n",
       "      <td>5.8598</td>\n",
       "      <td>6.8233</td>\n",
       "    </tr>\n",
       "  </tbody>\n",
       "</table>\n",
       "</div>"
      ],
      "text/plain": [
       "   population   profit\n",
       "0      6.1101  17.5920\n",
       "1      5.5277   9.1302\n",
       "2      8.5186  13.6620\n",
       "3      7.0032  11.8540\n",
       "4      5.8598   6.8233"
      ]
     },
     "execution_count": 6,
     "metadata": {},
     "output_type": "execute_result"
    }
   ],
   "source": [
    "# load the dataset\n",
    "df = pd.read_csv(\"Restaurant.csv\")\n",
    "df.head()"
   ]
  },
  {
   "cell_type": "code",
   "execution_count": 7,
   "id": "f5be32d0-8271-48f0-a9d5-86395dd89c18",
   "metadata": {},
   "outputs": [
    {
     "data": {
      "text/plain": [
       "Text(0, 0.5, 'Profit (times $10,000)')"
      ]
     },
     "execution_count": 7,
     "metadata": {},
     "output_type": "execute_result"
    },
    {
     "data": {
      "image/png": "[encoded data removed]",
      "text/plain": [
       "<Figure size 640x480 with 1 Axes>"
      ]
     },
     "metadata": {},
     "output_type": "display_data"
    }
   ],
   "source": [
    "# Create a scatter plot of the data. \n",
    "\n",
    "plt.scatter(df['population'],df['profit'])\n",
    "# Set the title\n",
    "plt.title(\"Profits vs. Population per city\")\n",
    "# Set X-axis label\n",
    "plt.xlabel('Population (times 10,000)')\n",
    "# Set Y-axis label\n",
    "plt.ylabel('Profit (times $10,000)')"
   ]
  },
  {
   "cell_type": "code",
   "execution_count": 8,
   "id": "d35c40d0-7f0b-4659-887b-65c720c994c7",
   "metadata": {},
   "outputs": [
    {
     "data": {
      "text/plain": [
       "11    14.1640\n",
       "81     5.1884\n",
       "30     5.2524\n",
       "29    22.2030\n",
       "5      8.3829\n",
       "Name: population, dtype: float64"
      ]
     },
     "execution_count": 8,
     "metadata": {},
     "output_type": "execute_result"
    }
   ],
   "source": [
    "#Splitting the dataset into training and testing\n",
    "x = df.iloc[:,0]\n",
    "y = df.iloc[:,-1]\n",
    "x_train, x_test, y_train, y_test = train_test_split(x,y,test_size=0.2,random_state=2)\n",
    "x_train.head()"
   ]
  },
  {
   "cell_type": "markdown",
   "id": "fd72238e-f76a-45ac-a692-ae42dfc7ada3",
   "metadata": {},
   "source": [
    "#### Check the dimensions of your variables\n",
    "\n",
    "Another useful way to get familiar with data is to view its dimensions.\n",
    "\n",
    "Please print the shape of `x_train` and `y_train` and see how many training examples you have in your dataset."
   ]
  },
  {
   "cell_type": "code",
   "execution_count": 10,
   "id": "56bae7a3-b788-4ebe-b774-399076c0b2e3",
   "metadata": {},
   "outputs": [
    {
     "name": "stdout",
     "output_type": "stream",
     "text": [
      "The shape of x_train is: (77,)\n",
      "The shape of y_train is:  (77,)\n",
      "Number of training examples (m): 77\n"
     ]
    }
   ],
   "source": [
    "print ('The shape of x_train is:', x_train.shape)\n",
    "print ('The shape of y_train is: ', y_train.shape)\n",
    "print ('Number of training examples (m):', len(x_train))"
   ]
  },
  {
   "cell_type": "markdown",
   "id": "5e079764-8ece-4feb-a25f-a1742f8f83f2",
   "metadata": {},
   "source": [
    "\n",
    "## 3 - Compute Cost\n",
    "\n",
    "First we will complete the `compute_cost` function below to:\n",
    "\n",
    "* Iterate over the training examples, and for each example, compute:\n",
    "    * The prediction of the model for that example \n",
    "    $$\n",
    "    f_{wb}(x^{(i)}) =  wx^{(i)} + b \n",
    "    $$\n",
    "   \n",
    "    * The cost for that example  $$cost^{(i)} =  (f_{wb} - y^{(i)})^2$$\n",
    "    \n",
    "\n",
    "* Return the total cost over all examples\n",
    "$$J(\\mathbf{w},b) = \\frac{1}{2m} \\sum\\limits_{i = 0}^{m-1} cost^{(i)}$$\n",
    "  * Here, $m$ is the number of training examples and $\\sum$ is the summation operator\n"
   ]
  },
  {
   "cell_type": "code",
   "execution_count": 12,
   "id": "b5960a49-7de2-4564-8b4d-224aec94be35",
   "metadata": {},
   "outputs": [],
   "source": [
    "def compute_cost(x, y, w, b): \n",
    "    \"\"\" Computes the cost function for linear regression.\n",
    "    \n",
    "    Args:\n",
    "        x : Input to the model (Population of cities) \n",
    "        y : Shape (m,) Label (Actual profits for the cities)\n",
    "        w, b (scalar): Parameters of the model\n",
    "    \n",
    "    Returns\n",
    "        total_cost (float): The cost of using w,b as the parameters for linear regression\n",
    "               to fit the data points in x and y\n",
    "    \"\"\"\n",
    "    # number of training examples\n",
    "    m = x.shape[0] \n",
    "    \n",
    "    # Variable for computing total cost\n",
    "    total_cost = 0\n",
    "    \n",
    "    ### Loop start here ###\n",
    "    for i in range(0,m):\n",
    "        fx_i = w*x.iloc[i]+b\n",
    "        cost = (fx_i - y.iloc[i])**2\n",
    "        total_cost += cost\n",
    "    \n",
    "    total_cost = total_cost/(2*m)\n",
    "    \n",
    "    return total_cost\n",
    "    \n",
    "    ### END CODE HERE ### \n"
   ]
  },
  {
   "cell_type": "markdown",
   "id": "11b381b2-6e0a-4f47-a8e5-6efcd57a4b60",
   "metadata": {},
   "source": [
    "\n",
    "## 4 - Compute Gradient \n",
    "\n",
    "Now we will implement a function called `compute_gradient` which calculates $\\frac{\\partial J(w)}{\\partial w}$, $\\frac{\\partial J(w)}{\\partial b}$ \n",
    "\n",
    "\n",
    "$$\n",
    "\\frac{\\partial J(w,b)}{\\partial b}  = \\frac{1}{m} \\sum\\limits_{i = 0}^{m-1} (f_{w,b}(x^{(i)}) - y^{(i)}) \n",
    "$$\n",
    "$$\n",
    "\\frac{\\partial J(w,b)}{\\partial w}  = \\frac{1}{m} \\sum\\limits_{i = 0}^{m-1} (f_{w,b}(x^{(i)}) -y^{(i)})x^{(i)} \n",
    "$$\n"
   ]
  },
  {
   "cell_type": "code",
   "execution_count": 14,
   "id": "a86f2904-e4a8-4051-9b1a-85e8d14db26b",
   "metadata": {},
   "outputs": [],
   "source": [
    "def compute_gradient(x, y, w, b): \n",
    "    \"\"\" Computes the gradient for linear regression \n",
    "    Args:\n",
    "      x : Input to the model (Population of cities) \n",
    "      y : Label (Actual profits for the cities)\n",
    "      w, b (scalar): Parameters of the model  \n",
    "    Returns\n",
    "      dj_dw (scalar): The gradient of the cost w.r.t. the parameters w\n",
    "      dj_db (scalar): The gradient of the cost w.r.t. the parameter b     \n",
    "     \"\"\"\n",
    "    \n",
    "    # Number of training examples\n",
    "    m = x.shape[0]\n",
    "    \n",
    "    # You need to return the following variables correctly\n",
    "    dj_dw = 0\n",
    "    dj_db = 0\n",
    "    \n",
    "    ### LOOP START HERE ###\n",
    "    for i in range(m):\n",
    "        fx_i = w*x.iloc[i]+b\n",
    "        dj_dw_i = (fx_i - y.iloc[i])*x.iloc[i]\n",
    "        dj_db_i = fx_i - y.iloc[i]\n",
    "        dj_dw += dj_dw_i\n",
    "        dj_db += dj_db_i\n",
    "    \n",
    "    dj_dw = dj_dw/m\n",
    "    dj_db = dj_db/m\n",
    "    \n",
    "    return dj_dw, dj_db\n",
    "    \n",
    "    ### END CODE HERE ### "
   ]
  },
  {
   "cell_type": "markdown",
   "id": "ec0a8a31-f7f3-49ad-a823-3fca4b621017",
   "metadata": {},
   "source": [
    "## 5 - Gradient Descent\n",
    "\n",
    "In this section, we will implement the gradient for parameters  𝑤,𝑏 for linear regression.\n",
    "\n",
    "The gradient descent algorithm is:\n",
    "\n",
    "$$\\begin{align*}& \\text{repeat until convergence:} \\; \\lbrace \\newline \\; & \\phantom {0000} b := b -  \\alpha \\frac{\\partial J(w,b)}{\\partial b} \\newline       \\; & \\phantom {0000} w := w -  \\alpha \\frac{\\partial J(w,b)}{\\partial w} \\tag{1}  \\; & \n",
    "\\newline & \\rbrace\\end{align*}$$\n",
    "\n",
    "where, parameters $w, b$ are both updated simultaniously."
   ]
  },
  {
   "cell_type": "code",
   "execution_count": 16,
   "id": "73f0938c-7832-45ff-89f7-22cfabd6df1f",
   "metadata": {},
   "outputs": [],
   "source": [
    "def gradient_descent(x, y, w_in, b_in, cost_function, gradient_function, alpha, num_iters): \n",
    "    \n",
    "    # Number of training examples\n",
    "    m = len(x)\n",
    "    \n",
    "    # An array to store cost J and w's at each iteration — primarily for graphing later\n",
    "    J_history = []\n",
    "    w_history = []\n",
    "    w = copy.deepcopy(w_in)  #avoid modifying global w within function\n",
    "    b = b_in\n",
    "    \n",
    "    for i in range(num_iters):\n",
    "\n",
    "        # Calculate the gradient and update the parameters\n",
    "        dj_dw, dj_db = gradient_function(x, y, w, b )  \n",
    "\n",
    "        # Update Parameters using w, b, alpha and gradient\n",
    "        w = w - alpha * dj_dw               \n",
    "        b = b - alpha * dj_db               \n",
    "\n",
    "        # Save cost J at each iteration\n",
    "        if i<100000:      # Prevent resource exhaustion \n",
    "            cost =  cost_function(x, y, w, b)\n",
    "            J_history.append(cost)\n",
    "\n",
    "        # Print cost every at intervals 10 times or as many iterations if < 10\n",
    "        if i% math.ceil(num_iters/10) == 0:\n",
    "            w_history.append(w)\n",
    "            print(f\"Iteration {i:4}: Cost {float(J_history[-1]):8.2f}   \")\n",
    "        \n",
    "    return w, b, J_history, w_history #return w and J,w history for graphing"
   ]
  },
  {
   "cell_type": "code",
   "execution_count": 17,
   "id": "e5f2691b-8a80-41a0-8fd1-1bb6fb9bcedc",
   "metadata": {},
   "outputs": [
    {
     "name": "stdout",
     "output_type": "stream",
     "text": [
      "Iteration    0: Cost     5.27   \n",
      "Iteration  170: Cost     3.72   \n",
      "Iteration  340: Cost     3.39   \n",
      "Iteration  510: Cost     3.21   \n",
      "Iteration  680: Cost     3.11   \n",
      "Iteration  850: Cost     3.06   \n",
      "Iteration 1020: Cost     3.03   \n",
      "Iteration 1190: Cost     3.01   \n",
      "Iteration 1360: Cost     3.00   \n",
      "Iteration 1530: Cost     3.00   \n",
      "w,b found by gradient descent: 1.1220767457279899 -3.6073020755118286\n"
     ]
    }
   ],
   "source": [
    "# initialize fitting parameters. Recall that the shape of w is (n,)\n",
    "initial_w = 0.\n",
    "initial_b = 0.\n",
    "\n",
    "# some gradient descent settings\n",
    "iterations = 1700\n",
    "alpha = 0.01\n",
    "\n",
    "w,b,_,_ = gradient_descent(x_train ,y_train, initial_w, initial_b, \n",
    "                     compute_cost, compute_gradient, alpha, iterations)\n",
    "print(\"w,b found by gradient descent:\", w, b)"
   ]
  },
  {
   "cell_type": "markdown",
   "id": "e1790240-ae5d-49f4-abf2-890ca3341b53",
   "metadata": {},
   "source": [
    "## 6 - Linear fit\n",
    "\n",
    "We will now use the final parameters from gradient descent to plot the linear fit.\n",
    "\n",
    "To calculate the predictions on the entire dataset, we can loop through all the training examples and calculate the prediction for each example. This is shown in the code block below."
   ]
  },
  {
   "cell_type": "code",
   "execution_count": 19,
   "id": "d81e841f-ea43-4dbe-9b79-6f14526c44c8",
   "metadata": {},
   "outputs": [],
   "source": [
    "m = x_train.shape[0]\n",
    "predicted = np.zeros(m)\n",
    "\n",
    "for i in range(m):\n",
    "    predicted[i] = w * x_train.iloc[i] + b"
   ]
  },
  {
   "cell_type": "markdown",
   "id": "d1c0db22-c733-4fac-aa68-18d4df56f564",
   "metadata": {},
   "source": [
    "We will now plot the predicted values to see the linear fit."
   ]
  },
  {
   "cell_type": "code",
   "execution_count": 21,
   "id": "9d16ce95-9692-4700-824a-f42d4743e04a",
   "metadata": {},
   "outputs": [
    {
     "data": {
      "text/plain": [
       "Text(0.5, 0, 'Population of City in 10,000s')"
      ]
     },
     "execution_count": 21,
     "metadata": {},
     "output_type": "execute_result"
    },
    {
     "data": {
      "image/png": "[encoded data removed]",
      "text/plain": [
       "<Figure size 640x480 with 1 Axes>"
      ]
     },
     "metadata": {},
     "output_type": "display_data"
    }
   ],
   "source": [
    "# Plot the linear fit\n",
    "plt.plot(x_train, predicted, c = \"b\")\n",
    "\n",
    "# Create a scatter plot of the data. \n",
    "plt.scatter(x_train, y_train, marker='x', c='r') \n",
    "\n",
    "# Set the title\n",
    "plt.title(\"Profits vs. Population per city\")\n",
    "# Set the y-axis label\n",
    "plt.ylabel('Profit in $10,000')\n",
    "# Set the x-axis label\n",
    "plt.xlabel('Population of City in 10,000s')"
   ]
  },
  {
   "cell_type": "markdown",
   "id": "e99e515c-cfa9-46fa-a11b-607747eb5797",
   "metadata": {},
   "source": [
    "Our final values of 𝑤,𝑏 can also be used to make predictions on profits. Let's predict what the profit would be in areas of 35,000 and 70,000 people."
   ]
  },
  {
   "cell_type": "code",
   "execution_count": 23,
   "id": "6d5007ff-7e2c-4567-8bb7-0028c2f9f60a",
   "metadata": {},
   "outputs": [
    {
     "name": "stdout",
     "output_type": "stream",
     "text": [
      "For population = 35,000, we predict a profit of $3199.67\n",
      "For population = 70,000, we predict a profit of $42472.35\n"
     ]
    }
   ],
   "source": [
    "predict1 = 3.5 * w + b\n",
    "print('For population = 35,000, we predict a profit of $%.2f' % (predict1*10000))\n",
    "\n",
    "predict2 = 7.0 * w + b\n",
    "print('For population = 70,000, we predict a profit of $%.2f' % (predict2*10000))"
   ]
  },
  {
   "cell_type": "markdown",
   "id": "bf5471c1-bf5e-44d5-a303-159c10c0d9cf",
   "metadata": {},
   "source": [
    "## 7 - Testing \n",
    "\n",
    "Now we will evaluate the model on testing data by using Root Mean Squared Error and R2 score."
   ]
  },
  {
   "cell_type": "code",
   "execution_count": 25,
   "id": "c8469c04-8abb-42c9-8ff5-83c7af99a62f",
   "metadata": {},
   "outputs": [],
   "source": [
    "from sklearn.metrics import mean_squared_error, r2_score"
   ]
  },
  {
   "cell_type": "code",
   "execution_count": 26,
   "id": "b4333e2e-3dab-420b-b817-db280e4bc6d1",
   "metadata": {},
   "outputs": [],
   "source": [
    "m = x_test.shape[0]\n",
    "y_predicted = np.zeros(m)\n",
    "\n",
    "for i in range(m):\n",
    "    y_predicted[i] = w * x_test.iloc[i] + b"
   ]
  },
  {
   "cell_type": "code",
   "execution_count": 27,
   "id": "a580759b-c8fe-4075-8393-6cd51f406e9d",
   "metadata": {},
   "outputs": [
    {
     "name": "stdout",
     "output_type": "stream",
     "text": [
      "Slope :  1.1220767457279899\n",
      "Intercept :  -3.6073020755118286\n",
      "RMSE :  21.13717283589386\n",
      "R2 Score :  0.5581227642710902\n"
     ]
    }
   ],
   "source": [
    "rmse = mean_squared_error(y_test, y_predicted)\n",
    "r2 = r2_score(y_test, y_predicted)\n",
    "print('Slope : ', w)\n",
    "print('Intercept : ', b)\n",
    "print('RMSE : ', rmse)\n",
    "print('R2 Score : ', r2)"
   ]
  },
  {
   "cell_type": "code",
   "execution_count": 48,
   "id": "72b8e789-6fdf-4a80-b190-c174874adf95",
   "metadata": {},
   "outputs": [
    {
     "data": {
      "text/plain": [
       "Text(0.5, 0, 'Population of City in 10,000s')"
      ]
     },
     "execution_count": 48,
     "metadata": {},
     "output_type": "execute_result"
    },
    {
     "data": {
      "image/png": "[encoded data removed]",
      "text/plain": [
       "<Figure size 640x480 with 1 Axes>"
      ]
     },
     "metadata": {},
     "output_type": "display_data"
    }
   ],
   "source": [
    "# Plot the linear fit\n",
    "plt.plot(x_train, predicted, c = \"b\")\n",
    "\n",
    "# Create a scatter plot of the data. \n",
    "plt.scatter(x_train, y_train, marker='.', c='b') \n",
    "\n",
    "# Create a scatter plot of the predicted data. \n",
    "plt.scatter(x_test, y_test, marker='x', c='g') \n",
    "\n",
    "# Create a scatter plot of the predicted data. \n",
    "plt.scatter(x_test, y_predicted, marker='*', c='r')\n",
    "\n",
    "# Set the title\n",
    "plt.title(\"Profits vs. Population per city\")\n",
    "# Set the y-axis label\n",
    "plt.ylabel('Profit in $10,000')\n",
    "# Set the x-axis label\n",
    "plt.xlabel('Population of City in 10,000s')"
   ]
  },
  {
   "cell_type": "code",
   "execution_count": null,
   "id": "f9838054-1506-4780-a47a-adbc0f366827",
   "metadata": {},
   "outputs": [],
   "source": []
  }
 ],
 "metadata": {
  "kernelspec": {
   "display_name": "Python 3 (ipykernel)",
   "language": "python",
   "name": "python3"
  },
  "language_info": {
   "codemirror_mode": {
    "name": "ipython",
    "version": 3
   },
   "file_extension": ".py",
   "mimetype": "text/x-python",
   "name": "python",
   "nbconvert_exporter": "python",
   "pygments_lexer": "ipython3",
   "version": "3.12.4"
  }
 },
 "nbformat": 4,
 "nbformat_minor": 5
}
